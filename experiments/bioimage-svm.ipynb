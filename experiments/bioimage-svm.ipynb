{
 "cells": [
  {
   "cell_type": "code",
   "execution_count": 15,
   "metadata": {
    "collapsed": true
   },
   "outputs": [],
   "source": [
    "import numpy\n",
    "import pandas\n",
    "from sklearn.svm import SVC\n",
    "from sklearn import metrics"
   ]
  },
  {
   "cell_type": "code",
   "execution_count": 16,
   "metadata": {
    "collapsed": false
   },
   "outputs": [],
   "source": [
    "dataframe_train = pandas.read_csv('Data/EASY_TRAIN.csv', header=None)\n",
    "dataset_train = dataframe_train.values\n",
    "data_train = dataset_train[:,0:26].astype(float)\n",
    "labels_train = dataset_train[:,26]"
   ]
  },
  {
   "cell_type": "code",
   "execution_count": 17,
   "metadata": {
    "collapsed": false
   },
   "outputs": [
    {
     "data": {
      "text/plain": [
       "SVC(C=1.0, cache_size=200, class_weight=None, coef0=0.0,\n",
       "  decision_function_shape=None, degree=3, gamma='auto', kernel='rbf',\n",
       "  max_iter=-1, probability=False, random_state=None, shrinking=True,\n",
       "  tol=0.001, verbose=False)"
      ]
     },
     "execution_count": 17,
     "metadata": {},
     "output_type": "execute_result"
    }
   ],
   "source": [
    "clf = SVC()\n",
    "clf.fit(data_train,labels_train)"
   ]
  },
  {
   "cell_type": "code",
   "execution_count": 18,
   "metadata": {
    "collapsed": true
   },
   "outputs": [],
   "source": [
    "dataframe_test = pandas.read_csv('Data/EASY_TEST.csv', header=None)\n",
    "dataset_test = dataframe_test.values\n",
    "data_test = dataset_test[:,0:26].astype(float)\n",
    "labels_expected = dataset_test[:,26]"
   ]
  },
  {
   "cell_type": "code",
   "execution_count": 19,
   "metadata": {
    "collapsed": false
   },
   "outputs": [],
   "source": [
    "labels_predicted = clf.predict(data_test)\n",
    "labels_prob = clf.decision_function(data_test)"
   ]
  },
  {
   "cell_type": "code",
   "execution_count": 20,
   "metadata": {
    "collapsed": false
   },
   "outputs": [
    {
     "name": "stdout",
     "output_type": "stream",
     "text": [
      "Labels prob:[[ 2.39753856 -0.17392802 -0.63219186 -0.073242   -0.14052683 -1.68513534\n",
      "  -1.45274841 -0.94861811 -1.95543665 -2.20350639 -3.5444558  -2.540541\n",
      "  -4.23774139 -0.18610538 -0.24566851  0.13133769 -0.98697369 -0.10885138\n",
      "  -0.4341676   0.43818169 -1.03186048  0.05253051  1.32707371 -2.20755416\n",
      "  -0.74037275 -2.39925114 -1.36755026  1.20030342]\n",
      " [-1.29067976  0.98652486  0.61678729  0.47519761 -1.03389542  0.4566904\n",
      "  -1.04929749  0.74211606  0.80407591  1.4071651  -0.20657871  1.24558913\n",
      "  -0.73488553 -0.39505016 -0.59516263 -1.033203   -0.69000806 -1.46766041\n",
      "  -0.18405242 -1.50417969 -0.2529321  -1.28944875 -1.34550016  0.05980259\n",
      "  -1.26448532  0.98194004 -0.49865481 -1.87635846]]\n",
      "Labels :['Peroxisomes' 'Plasma_Membrane']\n",
      "Classification report for classifier SVC(C=1.0, cache_size=200, class_weight=None, coef0=0.0,\n",
      "  decision_function_shape=None, degree=3, gamma='auto', kernel='rbf',\n",
      "  max_iter=-1, probability=False, random_state=None, shrinking=True,\n",
      "  tol=0.001, verbose=False):\n",
      "                       precision    recall  f1-score   support\n",
      "\n",
      "                Actin       0.91      0.91      0.91       144\n",
      "Endoplasmic_Reticulum       0.92      0.97      0.95       111\n",
      "            Endosomes       1.00      1.00      1.00       121\n",
      "             Lysosome       0.98      0.96      0.97       124\n",
      "         Microtubules       0.87      0.96      0.92       129\n",
      "         Mitochondria       0.88      0.89      0.88       118\n",
      "          Peroxisomes       0.92      0.91      0.91       120\n",
      "      Plasma_Membrane       0.93      0.80      0.86       133\n",
      "\n",
      "          avg / total       0.92      0.92      0.92      1000\n",
      "\n",
      "\n",
      "Confusion matrix:\n",
      "[[131   0   0   0  10   0   1   2]\n",
      " [  1 108   0   0   0   2   0   0]\n",
      " [  0   0 121   0   0   0   0   0]\n",
      " [  0   4   0 119   0   1   0   0]\n",
      " [  3   0   0   0 124   2   0   0]\n",
      " [  0   4   0   0   7 105   1   1]\n",
      " [  0   0   0   0   1   5 109   5]\n",
      " [  9   1   0   3   0   5   8 107]]\n"
     ]
    }
   ],
   "source": [
    "print \"Labels prob:\" + str(labels_prob[0:2]);\n",
    "print \"Labels :\" + str(labels_predicted[0:2]);\n",
    "print(\"Classification report for classifier %s:\\n%s\\n\"\n",
    "  % (clf, metrics.classification_report(labels_expected, labels_predicted)))\n",
    "print(\"Confusion matrix:\\n%s\" % metrics.confusion_matrix(labels_expected, labels_predicted))"
   ]
  },
  {
   "cell_type": "code",
   "execution_count": null,
   "metadata": {
    "collapsed": true
   },
   "outputs": [],
   "source": []
  },
  {
   "cell_type": "code",
   "execution_count": null,
   "metadata": {
    "collapsed": true
   },
   "outputs": [],
   "source": []
  },
  {
   "cell_type": "code",
   "execution_count": null,
   "metadata": {
    "collapsed": true
   },
   "outputs": [],
   "source": []
  }
 ],
 "metadata": {
  "anaconda-cloud": {},
  "kernelspec": {
   "display_name": "Python [conda root]",
   "language": "python",
   "name": "conda-root-py"
  },
  "language_info": {
   "codemirror_mode": {
    "name": "ipython",
    "version": 2
   },
   "file_extension": ".py",
   "mimetype": "text/x-python",
   "name": "python",
   "nbconvert_exporter": "python",
   "pygments_lexer": "ipython2",
   "version": "2.7.12"
  }
 },
 "nbformat": 4,
 "nbformat_minor": 1
}
