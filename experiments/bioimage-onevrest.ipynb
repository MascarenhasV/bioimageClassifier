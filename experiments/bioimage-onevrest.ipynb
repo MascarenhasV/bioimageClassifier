{
 "cells": [
  {
   "cell_type": "code",
   "execution_count": 1,
   "metadata": {
    "collapsed": true
   },
   "outputs": [],
   "source": [
    "import numpy\n",
    "import pandas\n",
    "\n",
    "from sklearn.multiclass import OneVsRestClassifier\n",
    "from sklearn.svm import SVC\n",
    "from sklearn import metrics"
   ]
  },
  {
   "cell_type": "code",
   "execution_count": 2,
   "metadata": {
    "collapsed": true
   },
   "outputs": [],
   "source": [
    "dataframe_train = pandas.read_csv('Data/EASY_TRAIN.csv', header=None)\n",
    "dataset_train = dataframe_train.values\n",
    "data_train = dataset_train[:,0:26].astype(float)\n",
    "labels_train = dataset_train[:,26]\n"
   ]
  },
  {
   "cell_type": "code",
   "execution_count": 3,
   "metadata": {
    "collapsed": false
   },
   "outputs": [
    {
     "data": {
      "text/plain": [
       "OneVsRestClassifier(estimator=SVC(C=1.0, cache_size=200, class_weight=None, coef0=0.0,\n",
       "  decision_function_shape=None, degree=3, gamma='auto', kernel='rbf',\n",
       "  max_iter=-1, probability=False, random_state=0, shrinking=True,\n",
       "  tol=0.001, verbose=False),\n",
       "          n_jobs=1)"
      ]
     },
     "execution_count": 3,
     "metadata": {},
     "output_type": "execute_result"
    }
   ],
   "source": [
    "clf = OneVsRestClassifier(SVC(random_state=0))\n",
    "clf.fit(data_train,labels_train)"
   ]
  },
  {
   "cell_type": "code",
   "execution_count": 4,
   "metadata": {
    "collapsed": true
   },
   "outputs": [],
   "source": [
    "dataframe_test = pandas.read_csv('Data/EASY_TEST.csv', header=None)\n",
    "dataset_test = dataframe_test.values\n",
    "data_test = dataset_test[:,0:26].astype(float)\n",
    "labels_expected = dataset_test[:,26]"
   ]
  },
  {
   "cell_type": "code",
   "execution_count": 5,
   "metadata": {
    "collapsed": true
   },
   "outputs": [],
   "source": [
    "labels_predicted = clf.predict(data_test)\n",
    "labels_prob = clf.decision_function(data_test)"
   ]
  },
  {
   "cell_type": "code",
   "execution_count": 6,
   "metadata": {
    "collapsed": false
   },
   "outputs": [
    {
     "name": "stdout",
     "output_type": "stream",
     "text": [
      "Labels prob:[[-1.87608788 -6.69880591 -1.08799379 -1.13511214 -2.68865633 -3.13714338\n",
      "   1.66646665 -1.35368213]\n",
      " [-2.10785655 -1.5678473  -1.59127401 -2.55901554 -3.07974924 -0.64197627\n",
      "  -2.73134978 -0.44218003]\n",
      " [ 0.89034065 -1.80948107 -1.700791   -2.55260329 -1.73699334 -2.3780267\n",
      "  -2.68730311 -1.7043596 ]\n",
      " [-2.02912261 -2.20142112 -1.89351847 -2.51221819 -1.78200435  1.27457961\n",
      "  -2.48952044 -1.84904244]\n",
      " [-1.80082973 -5.86482588 -1.25449901 -0.6471506  -0.9612182  -2.10549522\n",
      "   0.30598657 -1.57152483]\n",
      " [-1.46236169 -3.77307309 -1.9023928  -1.66582751  1.67851372 -1.39125624\n",
      "  -2.13633705 -1.67419047]\n",
      " [-1.64323662 -3.41943956 -1.73867993 -2.83218891 -0.82873051  0.85622868\n",
      "  -1.97273235 -1.88324479]\n",
      " [-2.28539456  1.62582497 -1.92087703 -1.85168857 -4.20238186 -2.37057294\n",
      "  -2.3939446  -1.76584102]\n",
      " [-2.91871113 -3.96451937 -1.1917721   0.93281127 -4.51966238 -2.24020474\n",
      "  -2.31926843 -0.48019478]\n",
      " [-2.12254578 -1.5495534  -1.79373819  1.14824431 -5.93318855 -1.6568888\n",
      "  -3.19729837 -2.88007018]]\n",
      "Predicted Labels :['Peroxisomes' 'Plasma_Membrane' 'Actin' 'Mitochondria' 'Peroxisomes'\n",
      " 'Microtubules' 'Mitochondria' 'Endoplasmic_Reticulum' 'Lysosome'\n",
      " 'Lysosome']\n",
      "True Labels :['Peroxisomes' 'Plasma_Membrane' 'Actin' 'Mitochondria' 'Peroxisomes'\n",
      " 'Microtubules' 'Mitochondria' 'Endoplasmic_Reticulum' 'Lysosome'\n",
      " 'Lysosome']\n",
      "Classification report for classifier OneVsRestClassifier(estimator=SVC(C=1.0, cache_size=200, class_weight=None, coef0=0.0,\n",
      "  decision_function_shape=None, degree=3, gamma='auto', kernel='rbf',\n",
      "  max_iter=-1, probability=False, random_state=0, shrinking=True,\n",
      "  tol=0.001, verbose=False),\n",
      "          n_jobs=1):\n",
      "                       precision    recall  f1-score   support\n",
      "\n",
      "                Actin       0.89      0.90      0.90       144\n",
      "Endoplasmic_Reticulum       0.91      0.97      0.94       111\n",
      "            Endosomes       1.00      1.00      1.00       121\n",
      "             Lysosome       0.97      0.94      0.96       124\n",
      "         Microtubules       0.87      0.97      0.92       129\n",
      "         Mitochondria       0.85      0.87      0.86       118\n",
      "          Peroxisomes       0.90      0.87      0.88       120\n",
      "      Plasma_Membrane       0.90      0.77      0.83       133\n",
      "\n",
      "          avg / total       0.91      0.91      0.91      1000\n",
      "\n",
      "\n",
      "Confusion matrix:\n",
      "[[130   0   0   0   7   4   1   2]\n",
      " [  1 108   0   0   0   1   0   1]\n",
      " [  0   0 121   0   0   0   0   0]\n",
      " [  0   4   0 117   0   3   0   0]\n",
      " [  3   0   0   0 125   1   0   0]\n",
      " [  1   6   0   0   7 103   1   0]\n",
      " [  0   0   0   0   3   5 104   8]\n",
      " [ 11   1   0   3   1   4  10 103]]\n"
     ]
    }
   ],
   "source": [
    "print \"Labels prob:\" + str(labels_prob[0:10]);\n",
    "print \"Predicted Labels :\" + str(labels_predicted[0:10]);\n",
    "print \"True Labels :\" + str(labels_expected[0:10]);\n",
    "print(\"Classification report for classifier %s:\\n%s\\n\"\n",
    "  % (clf, metrics.classification_report(labels_expected, labels_predicted)))\n",
    "print(\"Confusion matrix:\\n%s\" % metrics.confusion_matrix(labels_expected, labels_predicted))"
   ]
  },
  {
   "cell_type": "code",
   "execution_count": 10,
   "metadata": {
    "collapsed": false
   },
   "outputs": [
    {
     "name": "stdout",
     "output_type": "stream",
     "text": [
      "Labels prob:[-2.0673745  -1.41847698 -2.0824707  -2.98231568 -0.04306576 -0.08317755\n",
      " -2.62286999 -1.3152244 ]\n",
      "Predicted Labels :Microtubules\n",
      "True Labels :Mitochondria\n",
      "\n",
      "Labels prob:[-0.15701176 -3.79165134 -1.4918457  -2.46317818 -1.35426328 -0.03308491\n",
      " -2.28419664 -2.38641012]\n",
      "Predicted Labels :Mitochondria\n",
      "True Labels :Actin\n",
      "\n",
      "Labels prob:[-0.2920158  -2.35939789 -1.96341841 -3.22997772 -0.04115564 -0.9123229\n",
      " -2.70939872 -1.97703922]\n",
      "Predicted Labels :Microtubules\n",
      "True Labels :Actin\n",
      "\n",
      "Labels prob:[-2.61535573 -5.19890626 -1.62372738 -2.27649338 -0.55528937 -0.95331941\n",
      " -0.68145172 -1.00325771]\n",
      "Predicted Labels :Microtubules\n",
      "True Labels :Mitochondria\n",
      "\n",
      "Labels prob:[-2.63380864 -4.19040402 -1.4661937  -1.99584843 -1.11465818 -0.98081246\n",
      " -0.82156136 -0.81501396]\n",
      "Predicted Labels :Plasma_Membrane\n",
      "True Labels :Peroxisomes\n",
      "\n",
      "Labels prob:[ 0.5252456  -2.25365565 -1.49970873 -2.46224927 -2.62186096 -2.56740535\n",
      " -2.59443866 -1.04794106]\n",
      "Predicted Labels :Actin\n",
      "True Labels :Plasma_Membrane\n",
      "\n",
      "Labels prob:[-1.67605822  1.22270083 -1.98673043 -1.74463298 -3.18821004 -1.87614806\n",
      " -3.12907261 -2.00813681]\n",
      "Predicted Labels :Endoplasmic_Reticulum\n",
      "True Labels :Mitochondria\n",
      "\n",
      "Labels prob:[-2.2174662  -3.32346047 -1.82437983 -1.88790227 -2.67425363  0.05057607\n",
      "  0.16841315 -1.46791269]\n",
      "Predicted Labels :Peroxisomes\n",
      "True Labels :Plasma_Membrane\n",
      "\n",
      "Labels prob:[ 0.74939633 -3.98842719 -1.20479793 -1.56210148 -4.46707097 -3.27091593\n",
      " -2.78520123 -0.76972952]\n",
      "Predicted Labels :Actin\n",
      "True Labels :Plasma_Membrane\n",
      "\n",
      "Labels prob:[-0.65396186 -1.21735509 -1.98144977 -3.27435193 -0.95321004 -1.62135632\n",
      " -1.19476437 -1.51530117]\n",
      "Predicted Labels :Actin\n",
      "True Labels :Microtubules\n",
      "\n"
     ]
    }
   ],
   "source": [
    "indices = []\n",
    "count = 0\n",
    "for index in range(0, len(labels_prob)):\n",
    "    if labels_predicted[index] != labels_expected[index]:\n",
    "        if count == 10:\n",
    "            break\n",
    "        print \"Labels prob:\" + str(labels_prob[index]);\n",
    "        print \"Predicted Labels :\" + str(labels_predicted[index]);\n",
    "        print \"True Labels :\" + str(labels_expected[index]);\n",
    "        print\n",
    "        count = count + 1"
   ]
  },
  {
   "cell_type": "code",
   "execution_count": null,
   "metadata": {
    "collapsed": true
   },
   "outputs": [],
   "source": []
  },
  {
   "cell_type": "code",
   "execution_count": null,
   "metadata": {
    "collapsed": true
   },
   "outputs": [],
   "source": []
  }
 ],
 "metadata": {
  "anaconda-cloud": {},
  "kernelspec": {
   "display_name": "Python [conda root]",
   "language": "python",
   "name": "conda-root-py"
  },
  "language_info": {
   "codemirror_mode": {
    "name": "ipython",
    "version": 2
   },
   "file_extension": ".py",
   "mimetype": "text/x-python",
   "name": "python",
   "nbconvert_exporter": "python",
   "pygments_lexer": "ipython2",
   "version": "2.7.12"
  }
 },
 "nbformat": 4,
 "nbformat_minor": 1
}
