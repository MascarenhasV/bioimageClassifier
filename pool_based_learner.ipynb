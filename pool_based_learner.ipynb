{
 "cells": [
  {
   "cell_type": "code",
   "execution_count": 55,
   "metadata": {
    "collapsed": true
   },
   "outputs": [],
   "source": [
    "import numpy\n",
    "import pandas\n",
    "from sklearn.multiclass import OneVsRestClassifier\n",
    "from sklearn.svm import SVC\n",
    "from sklearn import metrics\n",
    "import random"
   ]
  },
  {
   "cell_type": "code",
   "execution_count": 56,
   "metadata": {
    "collapsed": false
   },
   "outputs": [],
   "source": [
    "# load the training data\n",
    "dataframe_train = pandas.read_csv('Data/EASY_TRAIN.csv', header=None)\n",
    "dataset_train = dataframe_train.values\n",
    "# choose the first 26 columns as training examples\n",
    "data_train = dataframe_train.ix[:,0:26]\n",
    "# choose the 27th column as the training labels\n",
    "labels_train = dataframe_train.ix[:,26]\n"
   ]
  },
  {
   "cell_type": "code",
   "execution_count": 57,
   "metadata": {
    "collapsed": true
   },
   "outputs": [],
   "source": [
    "# initialize size of labelled pool of data\n",
    "labeled_pool_size = 500\n",
    "calls_to_oracle = 2500"
   ]
  },
  {
   "cell_type": "code",
   "execution_count": 58,
   "metadata": {
    "collapsed": false
   },
   "outputs": [],
   "source": [
    "# randomly sample data into labeled and unlabeled instances\n",
    "train_labeled_indices = random.sample(range(0,len(data_train)), labeled_pool_size)\n",
    "\n",
    "# create mask for the indices in the training data\n",
    "mask = data_train.index.isin(train_labeled_indices)\n",
    "\n",
    "# split the training data in labeled and unlabeled data using the mask\n",
    "labeled_instances = data_train[mask]\n",
    "labeled_instances_labels = labels_train[mask]\n",
    "unlabeled_instances =  data_train[~mask]\n",
    "unlabeled_instances_labels = labels_train[~mask]"
   ]
  },
  {
   "cell_type": "code",
   "execution_count": 59,
   "metadata": {
    "collapsed": true
   },
   "outputs": [],
   "source": [
    "cost = labeled_pool_size\n",
    "calls_to_oracle = calls_to_oracle - labeled_pool_size"
   ]
  },
  {
   "cell_type": "code",
   "execution_count": null,
   "metadata": {
    "collapsed": true
   },
   "outputs": [],
   "source": [
    "for index in range(0, calls_to_oracle):\n",
    "    \n",
    "    clf = OneVsRestClassifier(SVC(random_state=0))\n",
    "    clf.fit(labeled_instances,labeled_instances_labels)\n",
    "    labels_predicted = clf.predict(unlabeled_instances())\n",
    "    \n",
    "    ## TO DO : distance function resuts, write logic here -> query_indices\n",
    "    \n",
    "    #write logic to extract that point from the unlabeled_instances\n",
    "    query_data = unlabeled_instances.iloc[query_indices]\n",
    "    query_labels =  unlabeled_instances_labels.iloc[query_indices] # get from oracle\n",
    "    \n",
    "    cost = cost + len(query_indices)\n",
    "    \n",
    "    labeled_instances.append(query_data)\n",
    "    labeled_instances_labels.append(query_labels)\n",
    "    \n",
    "    unlabeled_instances = unlabeled_instances.drop(query_indices)\n",
    "    unlabeled_instances_labels = unlabeled_instances_labels.drop(query_indices)"
   ]
  }
 ],
 "metadata": {
  "anaconda-cloud": {},
  "kernelspec": {
   "display_name": "Python [conda root]",
   "language": "python",
   "name": "conda-root-py"
  },
  "language_info": {
   "codemirror_mode": {
    "name": "ipython",
    "version": 2
   },
   "file_extension": ".py",
   "mimetype": "text/x-python",
   "name": "python",
   "nbconvert_exporter": "python",
   "pygments_lexer": "ipython2",
   "version": "2.7.12"
  }
 },
 "nbformat": 4,
 "nbformat_minor": 1
}
