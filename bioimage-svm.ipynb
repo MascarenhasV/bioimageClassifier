{
 "cells": [
  {
   "cell_type": "code",
   "execution_count": null,
   "metadata": {
    "collapsed": true
   },
   "outputs": [],
   "source": [
    "import numpy\n",
    "import pandas\n",
    "from sklearn.svm import SVC\n",
    "from sklearn import metrics"
   ]
  },
  {
   "cell_type": "code",
   "execution_count": null,
   "metadata": {
    "collapsed": true
   },
   "outputs": [],
   "source": [
    "dataframe_train = pandas.read_csv('Data/EASY_TRAIN.csv', header=None)\n",
    "dataset_train = dataframe_train.values\n",
    "data_train = dataset_train[:,0:26].astype(float)\n",
    "labels_train = dataset_train[:,26]"
   ]
  },
  {
   "cell_type": "code",
   "execution_count": null,
   "metadata": {
    "collapsed": true
   },
   "outputs": [],
   "source": [
    "clf = SVC()\n",
    "clf.fit(data_train,labels_train)"
   ]
  },
  {
   "cell_type": "code",
   "execution_count": null,
   "metadata": {
    "collapsed": true
   },
   "outputs": [],
   "source": [
    "dataframe_test = pandas.read_csv('Data/EASY_TEST.csv', header=None)\n",
    "dataset_test = dataframe_test.values\n",
    "data_test = dataset_test[:,0:26].astype(float)\n",
    "labels_expected = dataset_test[:,26]"
   ]
  },
  {
   "cell_type": "code",
   "execution_count": null,
   "metadata": {
    "collapsed": true
   },
   "outputs": [],
   "source": [
    "labels_predicted = clf.predict(data_test)\n",
    "labels_prob = clf.decision_function(data_test)"
   ]
  },
  {
   "cell_type": "code",
   "execution_count": null,
   "metadata": {
    "collapsed": true
   },
   "outputs": [],
   "source": [
    "print \"Labels prob:\" + str(labels_prob[0:2]);\n",
    "print \"Labels :\" + str(labels_predicted[0:2]);\n",
    "print(\"Classification report for classifier %s:\\n%s\\n\"\n",
    "  % (clf, metrics.classification_report(labels_expected, labels_predicted)))\n",
    "print(\"Confusion matrix:\\n%s\" % metrics.confusion_matrix(labels_expected, labels_predicted))"
   ]
  }
 ],
 "metadata": {
  "kernelspec": {
   "display_name": "Python [conda root]",
   "language": "python",
   "name": "conda-root-py"
  },
  "language_info": {
   "codemirror_mode": {
    "name": "ipython",
    "version": 2
   },
   "file_extension": ".py",
   "mimetype": "text/x-python",
   "name": "python",
   "nbconvert_exporter": "python",
   "pygments_lexer": "ipython2",
   "version": "2.7.12"
  }
 },
 "nbformat": 4,
 "nbformat_minor": 1
}
