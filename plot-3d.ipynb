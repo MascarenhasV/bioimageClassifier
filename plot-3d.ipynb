{
 "cells": [
  {
   "cell_type": "code",
   "execution_count": null,
   "metadata": {
    "collapsed": true
   },
   "outputs": [],
   "source": [
    "import pylab as p\n",
    "import numpy as np\n",
    "from mpl_toolkits.mplot3d import Axes3D\n",
    "import matplotlib.pyplot as plt\n",
    "import matplotlib.cm as cm\n",
    "\n",
    "ra=np.random.random((100))\n",
    "dec=np.random.random((100))\n",
    "h=np.random.random((100))\n",
    "z=np.random.random((100))\n",
    "\n",
    "datamin=min(h)\n",
    "datamax=max(h)\n",
    "fig=p.figure()\n",
    "\n",
    "ax3D=fig.add_subplot(111, projection='3d')\n",
    "collection = ax3D.scatter(ra, dec, z, c=h, vmin=datamin, vmax=datamax, \n",
    "                          marker='o', cmap=cm.Spectral)\n",
    "p.colorbar(collection)\n",
    "\n",
    "p.title(\"MKW4s-Position vs Velocity\")\n",
    "p.show()"
   ]
  }
 ],
 "metadata": {
  "anaconda-cloud": {},
  "kernelspec": {
   "display_name": "Python [conda root]",
   "language": "python",
   "name": "conda-root-py"
  },
  "language_info": {
   "codemirror_mode": {
    "name": "ipython",
    "version": 2
   },
   "file_extension": ".py",
   "mimetype": "text/x-python",
   "name": "python",
   "nbconvert_exporter": "python",
   "pygments_lexer": "ipython2",
   "version": "2.7.12"
  }
 },
 "nbformat": 4,
 "nbformat_minor": 1
}
