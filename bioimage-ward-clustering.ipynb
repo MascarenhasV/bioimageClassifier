{
 "cells": [
  {
   "cell_type": "code",
   "execution_count": null,
   "metadata": {
    "collapsed": true
   },
   "outputs": [],
   "source": [
    "#http://brandonrose.org/clustering\n",
    "from scipy.cluster.hierarchy import ward, dendrogram\n",
    "from sklearn import cluster\n",
    "import itertools\n",
    "import pandas\n",
    "import matplotlib.pyplot as plt\n",
    "import numpy as np"
   ]
  },
  {
   "cell_type": "code",
   "execution_count": null,
   "metadata": {
    "collapsed": true
   },
   "outputs": [],
   "source": [
    "dataframe_train = pandas.read_csv('Data\\EASY_TRAIN.csv', header=None)\n",
    "dataset_train = dataframe_train.values\n",
    "data_train = dataset_train[:,0:26].astype(float)\n",
    "labels_train = dataset_train[:,26]"
   ]
  },
  {
   "cell_type": "code",
   "execution_count": null,
   "metadata": {
    "collapsed": true
   },
   "outputs": [],
   "source": [
    "arr = [None]*4120\n",
    "for index in range(0, 4120):\n",
    "    arr[index] = index + 1\n",
    "titles = np.array(labels_train[1:1000])\n",
    "\n",
    "print titles[0]"
   ]
  },
  {
   "cell_type": "code",
   "execution_count": null,
   "metadata": {
    "collapsed": true
   },
   "outputs": [],
   "source": [
    "w = cluster.ward_tree(data_train[1:1000,:], return_distance=True)\n",
    "linkage_matrix = ward(w[0]) #define the linkage_matrix using ward clustering pre-computed distances"
   ]
  },
  {
   "cell_type": "code",
   "execution_count": null,
   "metadata": {
    "collapsed": true
   },
   "outputs": [],
   "source": [
    "fig, ax = plt.subplots(figsize=(64, 100)) # set size\n",
    "ax = dendrogram(linkage_matrix, orientation=\"left\", labels=titles);"
   ]
  },
  {
   "cell_type": "code",
   "execution_count": null,
   "metadata": {
    "collapsed": true
   },
   "outputs": [],
   "source": [
    "plt.tick_params(\\\n",
    "    axis= 'x',          # changes apply to the x-axis\n",
    "    which='both',      # both major and minor ticks are affected\n",
    "    bottom='off',      # ticks along the bottom edge are off\n",
    "    top='off',         # ticks along the top edge are off\n",
    "    labelbottom='on')\n",
    "\n",
    "plt.tight_layout() #show plot with tight layout"
   ]
  },
  {
   "cell_type": "code",
   "execution_count": null,
   "metadata": {
    "collapsed": true
   },
   "outputs": [],
   "source": [
    "#plt.show()\n",
    "plt.savefig('ward_clusters.png', dpi=200) #save figure as ward_clusters"
   ]
  }
 ],
 "metadata": {
  "anaconda-cloud": {},
  "kernelspec": {
   "display_name": "Python [conda root]",
   "language": "python",
   "name": "conda-root-py"
  },
  "language_info": {
   "codemirror_mode": {
    "name": "ipython",
    "version": 2
   },
   "file_extension": ".py",
   "mimetype": "text/x-python",
   "name": "python",
   "nbconvert_exporter": "python",
   "pygments_lexer": "ipython2",
   "version": "2.7.12"
  }
 },
 "nbformat": 4,
 "nbformat_minor": 1
}
