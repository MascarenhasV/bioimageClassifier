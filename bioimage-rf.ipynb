{
 "cells": [
  {
   "cell_type": "code",
   "execution_count": null,
   "metadata": {
    "collapsed": true
   },
   "outputs": [],
   "source": [
    "import numpy\n",
    "import pandas\n",
    "\n",
    "from sklearn.ensemble import RandomForestClassifier\n",
    "from sklearn import metrics\n",
    "\n",
    "\n",
    "def main():\n",
    "\tdataframe_train = pandas.read_csv('Data\\EASY_TRAIN.csv', header=None)\n",
    "\tdataset_train = dataframe_train.values\n",
    "\tdata_train = dataset_train[:,0:26].astype(float)\n",
    "\tlabels_train = dataset_train[:,26]\n",
    "\tclf = RandomForestClassifier(n_jobs=2)\n",
    "\tclf.fit(data_train,labels_train)\n",
    "\n",
    "\tdataframe_test = pandas.read_csv('Data\\EASY_TEST.csv', header=None)\n",
    "\tdataset_test = dataframe_test.values\n",
    "\tdata_test = dataset_test[:,0:26].astype(float)\n",
    "\tlabels_expected = dataset_test[:,26]\n",
    "\tlabels_predicted = clf.predict(data_test)\n",
    "\n",
    "\tprint(\"Classification report for classifier %s:\\n%s\\n\"\n",
    "      % (clf, metrics.classification_report(labels_expected, labels_predicted)))\n",
    "\tprint(\"Confusion matrix:\\n%s\" % metrics.confusion_matrix(labels_expected, labels_predicted))\n",
    "\n",
    "\n",
    "if __name__ == \"__main__\":\n",
    "\tmain()"
   ]
  }
 ],
 "metadata": {
  "kernelspec": {
   "display_name": "Python [conda root]",
   "language": "python",
   "name": "conda-root-py"
  },
  "language_info": {
   "codemirror_mode": {
    "name": "ipython",
    "version": 2
   },
   "file_extension": ".py",
   "mimetype": "text/x-python",
   "name": "python",
   "nbconvert_exporter": "python",
   "pygments_lexer": "ipython2",
   "version": "2.7.12"
  }
 },
 "nbformat": 4,
 "nbformat_minor": 1
}
